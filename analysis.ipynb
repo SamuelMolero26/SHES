{
 "cells": [
  {
   "cell_type": "code",
   "execution_count": 14,
   "metadata": {},
   "outputs": [
    {
     "ename": "ParserError",
     "evalue": "Error tokenizing data. C error: Calling read(nbytes) on source failed. Try engine='python'.",
     "output_type": "error",
     "traceback": [
      "\u001b[1;31m---------------------------------------------------------------------------\u001b[0m",
      "\u001b[1;31mParserError\u001b[0m                               Traceback (most recent call last)",
      "Cell \u001b[1;32mIn[14], line 4\u001b[0m\n\u001b[0;32m      1\u001b[0m \u001b[38;5;28;01mimport\u001b[39;00m \u001b[38;5;21;01mpandas\u001b[39;00m \u001b[38;5;28;01mas\u001b[39;00m \u001b[38;5;21;01mpd\u001b[39;00m\n\u001b[0;32m      3\u001b[0m \u001b[38;5;66;03m# Load the large CSV file into a DataFrame\u001b[39;00m\n\u001b[1;32m----> 4\u001b[0m p1_df \u001b[38;5;241m=\u001b[39m \u001b[43mpd\u001b[49m\u001b[38;5;241;43m.\u001b[39;49m\u001b[43mread_csv\u001b[49m\u001b[43m(\u001b[49m\u001b[38;5;124;43m'\u001b[39;49m\u001b[38;5;124;43mphase1_NetworkData.csv\u001b[39;49m\u001b[38;5;124;43m'\u001b[39;49m\u001b[43m,\u001b[49m\u001b[43m \u001b[49m\u001b[43mlow_memory\u001b[49m\u001b[38;5;241;43m=\u001b[39;49m\u001b[38;5;28;43;01mTrue\u001b[39;49;00m\u001b[43m)\u001b[49m\n\u001b[0;32m      6\u001b[0m \u001b[38;5;66;03m# Display basic information about the DataFrame\u001b[39;00m\n\u001b[0;32m      7\u001b[0m \u001b[38;5;28mprint\u001b[39m(p1_df\u001b[38;5;241m.\u001b[39minfo())\n",
      "File \u001b[1;32m~\\AppData\\Local\\Packages\\PythonSoftwareFoundation.Python.3.11_qbz5n2kfra8p0\\LocalCache\\local-packages\\Python311\\site-packages\\pandas\\io\\parsers\\readers.py:1026\u001b[0m, in \u001b[0;36mread_csv\u001b[1;34m(filepath_or_buffer, sep, delimiter, header, names, index_col, usecols, dtype, engine, converters, true_values, false_values, skipinitialspace, skiprows, skipfooter, nrows, na_values, keep_default_na, na_filter, verbose, skip_blank_lines, parse_dates, infer_datetime_format, keep_date_col, date_parser, date_format, dayfirst, cache_dates, iterator, chunksize, compression, thousands, decimal, lineterminator, quotechar, quoting, doublequote, escapechar, comment, encoding, encoding_errors, dialect, on_bad_lines, delim_whitespace, low_memory, memory_map, float_precision, storage_options, dtype_backend)\u001b[0m\n\u001b[0;32m   1013\u001b[0m kwds_defaults \u001b[38;5;241m=\u001b[39m _refine_defaults_read(\n\u001b[0;32m   1014\u001b[0m     dialect,\n\u001b[0;32m   1015\u001b[0m     delimiter,\n\u001b[1;32m   (...)\u001b[0m\n\u001b[0;32m   1022\u001b[0m     dtype_backend\u001b[38;5;241m=\u001b[39mdtype_backend,\n\u001b[0;32m   1023\u001b[0m )\n\u001b[0;32m   1024\u001b[0m kwds\u001b[38;5;241m.\u001b[39mupdate(kwds_defaults)\n\u001b[1;32m-> 1026\u001b[0m \u001b[38;5;28;01mreturn\u001b[39;00m \u001b[43m_read\u001b[49m\u001b[43m(\u001b[49m\u001b[43mfilepath_or_buffer\u001b[49m\u001b[43m,\u001b[49m\u001b[43m \u001b[49m\u001b[43mkwds\u001b[49m\u001b[43m)\u001b[49m\n",
      "File \u001b[1;32m~\\AppData\\Local\\Packages\\PythonSoftwareFoundation.Python.3.11_qbz5n2kfra8p0\\LocalCache\\local-packages\\Python311\\site-packages\\pandas\\io\\parsers\\readers.py:626\u001b[0m, in \u001b[0;36m_read\u001b[1;34m(filepath_or_buffer, kwds)\u001b[0m\n\u001b[0;32m    623\u001b[0m     \u001b[38;5;28;01mreturn\u001b[39;00m parser\n\u001b[0;32m    625\u001b[0m \u001b[38;5;28;01mwith\u001b[39;00m parser:\n\u001b[1;32m--> 626\u001b[0m     \u001b[38;5;28;01mreturn\u001b[39;00m \u001b[43mparser\u001b[49m\u001b[38;5;241;43m.\u001b[39;49m\u001b[43mread\u001b[49m\u001b[43m(\u001b[49m\u001b[43mnrows\u001b[49m\u001b[43m)\u001b[49m\n",
      "File \u001b[1;32m~\\AppData\\Local\\Packages\\PythonSoftwareFoundation.Python.3.11_qbz5n2kfra8p0\\LocalCache\\local-packages\\Python311\\site-packages\\pandas\\io\\parsers\\readers.py:1923\u001b[0m, in \u001b[0;36mTextFileReader.read\u001b[1;34m(self, nrows)\u001b[0m\n\u001b[0;32m   1916\u001b[0m nrows \u001b[38;5;241m=\u001b[39m validate_integer(\u001b[38;5;124m\"\u001b[39m\u001b[38;5;124mnrows\u001b[39m\u001b[38;5;124m\"\u001b[39m, nrows)\n\u001b[0;32m   1917\u001b[0m \u001b[38;5;28;01mtry\u001b[39;00m:\n\u001b[0;32m   1918\u001b[0m     \u001b[38;5;66;03m# error: \"ParserBase\" has no attribute \"read\"\u001b[39;00m\n\u001b[0;32m   1919\u001b[0m     (\n\u001b[0;32m   1920\u001b[0m         index,\n\u001b[0;32m   1921\u001b[0m         columns,\n\u001b[0;32m   1922\u001b[0m         col_dict,\n\u001b[1;32m-> 1923\u001b[0m     ) \u001b[38;5;241m=\u001b[39m \u001b[38;5;28;43mself\u001b[39;49m\u001b[38;5;241;43m.\u001b[39;49m\u001b[43m_engine\u001b[49m\u001b[38;5;241;43m.\u001b[39;49m\u001b[43mread\u001b[49m\u001b[43m(\u001b[49m\u001b[43m  \u001b[49m\u001b[38;5;66;43;03m# type: ignore[attr-defined]\u001b[39;49;00m\n\u001b[0;32m   1924\u001b[0m \u001b[43m        \u001b[49m\u001b[43mnrows\u001b[49m\n\u001b[0;32m   1925\u001b[0m \u001b[43m    \u001b[49m\u001b[43m)\u001b[49m\n\u001b[0;32m   1926\u001b[0m \u001b[38;5;28;01mexcept\u001b[39;00m \u001b[38;5;167;01mException\u001b[39;00m:\n\u001b[0;32m   1927\u001b[0m     \u001b[38;5;28mself\u001b[39m\u001b[38;5;241m.\u001b[39mclose()\n",
      "File \u001b[1;32m~\\AppData\\Local\\Packages\\PythonSoftwareFoundation.Python.3.11_qbz5n2kfra8p0\\LocalCache\\local-packages\\Python311\\site-packages\\pandas\\io\\parsers\\c_parser_wrapper.py:234\u001b[0m, in \u001b[0;36mCParserWrapper.read\u001b[1;34m(self, nrows)\u001b[0m\n\u001b[0;32m    232\u001b[0m \u001b[38;5;28;01mtry\u001b[39;00m:\n\u001b[0;32m    233\u001b[0m     \u001b[38;5;28;01mif\u001b[39;00m \u001b[38;5;28mself\u001b[39m\u001b[38;5;241m.\u001b[39mlow_memory:\n\u001b[1;32m--> 234\u001b[0m         chunks \u001b[38;5;241m=\u001b[39m \u001b[38;5;28;43mself\u001b[39;49m\u001b[38;5;241;43m.\u001b[39;49m\u001b[43m_reader\u001b[49m\u001b[38;5;241;43m.\u001b[39;49m\u001b[43mread_low_memory\u001b[49m\u001b[43m(\u001b[49m\u001b[43mnrows\u001b[49m\u001b[43m)\u001b[49m\n\u001b[0;32m    235\u001b[0m         \u001b[38;5;66;03m# destructive to chunks\u001b[39;00m\n\u001b[0;32m    236\u001b[0m         data \u001b[38;5;241m=\u001b[39m _concatenate_chunks(chunks)\n",
      "File \u001b[1;32mparsers.pyx:838\u001b[0m, in \u001b[0;36mpandas._libs.parsers.TextReader.read_low_memory\u001b[1;34m()\u001b[0m\n",
      "File \u001b[1;32mparsers.pyx:905\u001b[0m, in \u001b[0;36mpandas._libs.parsers.TextReader._read_rows\u001b[1;34m()\u001b[0m\n",
      "File \u001b[1;32mparsers.pyx:874\u001b[0m, in \u001b[0;36mpandas._libs.parsers.TextReader._tokenize_rows\u001b[1;34m()\u001b[0m\n",
      "File \u001b[1;32mparsers.pyx:891\u001b[0m, in \u001b[0;36mpandas._libs.parsers.TextReader._check_tokenize_status\u001b[1;34m()\u001b[0m\n",
      "File \u001b[1;32mparsers.pyx:2061\u001b[0m, in \u001b[0;36mpandas._libs.parsers.raise_parser_error\u001b[1;34m()\u001b[0m\n",
      "\u001b[1;31mParserError\u001b[0m: Error tokenizing data. C error: Calling read(nbytes) on source failed. Try engine='python'."
     ]
    }
   ],
   "source": [
    "import pandas as pd\n",
    "\n",
    "# Load the large CSV file into a DataFrame\n",
    "p1_df = pd.read_csv('phase1_NetworkData.csv', low_memory=True)\n",
    "\n",
    "# Display basic information about the DataFrame\n",
    "print(p1_df.info())"
   ]
  },
  {
   "cell_type": "code",
   "execution_count": null,
   "metadata": {},
   "outputs": [
    {
     "name": "stderr",
     "output_type": "stream",
     "text": [
      "C:\\Users\\Owner\\AppData\\Local\\Temp\\ipykernel_18644\\729842308.py:1: DtypeWarning: Columns (68,69) have mixed types. Specify dtype option on import or set low_memory=False.\n",
      "  p2_df = pd.read_csv('phase2_NetworkData.csv', low_memory=True)\n"
     ]
    },
    {
     "name": "stdout",
     "output_type": "stream",
     "text": [
      "<class 'pandas.core.frame.DataFrame'>\n",
      "RangeIndex: 9536823 entries, 0 to 9536822\n",
      "Data columns (total 70 columns):\n",
      " #   Column            Dtype  \n",
      "---  ------            -----  \n",
      " 0   ts                float64\n",
      " 1   flow_duration     float64\n",
      " 2   Header_Length     int64  \n",
      " 3   Source IP         object \n",
      " 4   Destination IP    object \n",
      " 5   Source Port       int64  \n",
      " 6   Destination Port  int64  \n",
      " 7   Protocol Type     int64  \n",
      " 8   Protocol_name     object \n",
      " 9   Duration          int64  \n",
      " 10  Rate              float64\n",
      " 11  Srate             float64\n",
      " 12  Drate             float64\n",
      " 13  fin_flag_number   int64  \n",
      " 14  syn_flag_number   int64  \n",
      " 15  rst_flag_number   int64  \n",
      " 16  psh_flag_number   int64  \n",
      " 17  ack_flag_number   int64  \n",
      " 18  urg_flag_number   int64  \n",
      " 19  ece_flag_number   int64  \n",
      " 20  cwr_flag_number   int64  \n",
      " 21  ack_count         int64  \n",
      " 22  syn_count         int64  \n",
      " 23  fin_count         int64  \n",
      " 24  urg_count         int64  \n",
      " 25  rst_count         int64  \n",
      " 26  max_duration      float64\n",
      " 27  min_duration      float64\n",
      " 28  sum_duration      float64\n",
      " 29  average_duration  float64\n",
      " 30  std_duration      float64\n",
      " 31  CoAP              int64  \n",
      " 32  HTTP              int64  \n",
      " 33  HTTPS             int64  \n",
      " 34  DNS               int64  \n",
      " 35  Telnet            int64  \n",
      " 36  SMTP              int64  \n",
      " 37  SSH               int64  \n",
      " 38  IRC               int64  \n",
      " 39  TCP               int64  \n",
      " 40  UDP               int64  \n",
      " 41  DHCP              int64  \n",
      " 42  ARP               int64  \n",
      " 43  ICMP              int64  \n",
      " 44  IGMP              int64  \n",
      " 45  IPv               int64  \n",
      " 46  LLC               int64  \n",
      " 47  Tot sum           int64  \n",
      " 48  Min               int64  \n",
      " 49  Max               int64  \n",
      " 50  AVG               float64\n",
      " 51  Std               float64\n",
      " 52  Tot size          int64  \n",
      " 53  IAT               float64\n",
      " 54  Number            int64  \n",
      " 55  MAC               int64  \n",
      " 56  Magnitue          float64\n",
      " 57  Radius            float64\n",
      " 58  Covariance        float64\n",
      " 59  Variance          float64\n",
      " 60  Weight            int64  \n",
      " 61  DS status         int64  \n",
      " 62  Fragments         int64  \n",
      " 63  Sequence number   int64  \n",
      " 64  Protocol Version  int64  \n",
      " 65  flow_idle_time    float64\n",
      " 66  flow_active_time  float64\n",
      " 67  label             int64  \n",
      " 68  subLabel          object \n",
      " 69  subLabelCat       object \n",
      "dtypes: float64(19), int64(46), object(5)\n",
      "memory usage: 5.0+ GB\n",
      "None\n"
     ]
    }
   ],
   "source": [
    "p2_df = pd.read_csv('phase2_NetworkData.csv', low_memory=True)\n",
    "# Display basic information about the DataFrame\n",
    "print(p2_df.info())"
   ]
  },
  {
   "cell_type": "code",
   "execution_count": null,
   "metadata": {},
   "outputs": [
    {
     "name": "stdout",
     "output_type": "stream",
     "text": [
      "             ts  flow_duration  Header_Length      Source IP Destination IP  \\\n",
      "0  1.701426e+09       0.000000             66  172.16.64.128  172.16.66.128   \n",
      "1  1.701426e+09       0.002112            132  172.16.64.128  172.16.66.128   \n",
      "2  1.701426e+09       0.002328            198  172.16.64.128  172.16.66.128   \n",
      "3  1.701426e+09       0.004329            264  172.16.64.128  172.16.66.128   \n",
      "4  1.701426e+09       0.009495            330  172.16.64.128  172.16.66.128   \n",
      "\n",
      "   Source Port  Destination Port  Protocol Type Protocol_name  Duration  ...  \\\n",
      "0        41750               502              6           TCP        64  ...   \n",
      "1        41750               502              6           TCP        64  ...   \n",
      "2        41750               502              6           TCP        64  ...   \n",
      "3        41750               502              6           TCP        64  ...   \n",
      "4        41750               502              6           TCP        64  ...   \n",
      "\n",
      "   Weight  DS status  Fragments  Sequence number  Protocol Version  \\\n",
      "0       1          0          0                0                 0   \n",
      "1       4          0          0                0                 0   \n",
      "2       9          0          0                0                 0   \n",
      "3      16          0          0                0                 0   \n",
      "4      25          0          0                0                 0   \n",
      "\n",
      "   flow_idle_time  flow_active_time  label  subLabel  subLabelCat  \n",
      "0    1.701426e+09          0.000000      0         0            0  \n",
      "1    2.112150e-03          0.002112      0         0            0  \n",
      "2    2.160072e-04          0.002328      0         0            0  \n",
      "3    2.001047e-03          0.004329      0         0            0  \n",
      "4    5.165815e-03          0.009495      0         0            0  \n",
      "\n",
      "[5 rows x 70 columns]\n"
     ]
    }
   ],
   "source": [
    "print(p1_df.head())"
   ]
  },
  {
   "cell_type": "code",
   "execution_count": null,
   "metadata": {},
   "outputs": [
    {
     "name": "stdout",
     "output_type": "stream",
     "text": [
      "['ts', 'flow_duration', 'Header_Length', 'Source IP', 'Destination IP', 'Source Port', 'Destination Port', 'Protocol Type', 'Protocol_name', 'Duration', 'Rate', 'Srate', 'Drate', 'fin_flag_number', 'syn_flag_number', 'rst_flag_number', 'psh_flag_number', 'ack_flag_number', 'urg_flag_number', 'ece_flag_number', 'cwr_flag_number', 'ack_count', 'syn_count', 'fin_count', 'urg_count', 'rst_count', 'max_duration', 'min_duration', 'sum_duration', 'average_duration', 'std_duration', 'CoAP', 'HTTP', 'HTTPS', 'DNS', 'Telnet', 'SMTP', 'SSH', 'IRC', 'TCP', 'UDP', 'DHCP', 'ARP', 'ICMP', 'IGMP', 'IPv', 'LLC', 'Tot sum', 'Min', 'Max', 'AVG', 'Std', 'Tot size', 'IAT', 'Number', 'MAC', 'Magnitue', 'Radius', 'Covariance', 'Variance', 'Weight', 'DS status', 'Fragments', 'Sequence number', 'Protocol Version', 'flow_idle_time', 'flow_active_time', 'label', 'subLabel', 'subLabelCat']\n",
      "['ts', 'flow_duration', 'Header_Length', 'Source IP', 'Destination IP', 'Source Port', 'Destination Port', 'Protocol Type', 'Protocol_name', 'Duration', 'Rate', 'Srate', 'Drate', 'fin_flag_number', 'syn_flag_number', 'rst_flag_number', 'psh_flag_number', 'ack_flag_number', 'urg_flag_number', 'ece_flag_number', 'cwr_flag_number', 'ack_count', 'syn_count', 'fin_count', 'urg_count', 'rst_count', 'max_duration', 'min_duration', 'sum_duration', 'average_duration', 'std_duration', 'CoAP', 'HTTP', 'HTTPS', 'DNS', 'Telnet', 'SMTP', 'SSH', 'IRC', 'TCP', 'UDP', 'DHCP', 'ARP', 'ICMP', 'IGMP', 'IPv', 'LLC', 'Tot sum', 'Min', 'Max', 'AVG', 'Std', 'Tot size', 'IAT', 'Number', 'MAC', 'Magnitue', 'Radius', 'Covariance', 'Variance', 'Weight', 'DS status', 'Fragments', 'Sequence number', 'Protocol Version', 'flow_idle_time', 'flow_active_time', 'label', 'subLabel', 'subLabelCat']\n"
     ]
    }
   ],
   "source": [
    "print(p1_df.columns.tolist())\n",
    "print(p2_df.columns.tolist())"
   ]
  },
  {
   "cell_type": "code",
   "execution_count": null,
   "metadata": {},
   "outputs": [],
   "source": [
    "# Extract the top 10 rows and column names\n",
    "small_p1_df = p1_df.head(10)\n",
    "small_p2_df = p2_df.head(10)\n",
    "\n",
    "# Combine the two DataFrames for export\n",
    "combined_small_df = pd.concat([small_p1_df, small_p2_df], keys=['p1', 'p2'])\n",
    "\n",
    "# Export to a new CSV file\n",
    "combined_small_df.to_csv('small_network_data.csv', index=False)"
   ]
  },
  {
   "cell_type": "code",
   "execution_count": null,
   "metadata": {},
   "outputs": [
    {
     "name": "stdout",
     "output_type": "stream",
     "text": [
      "Phase 1 Flow Duration Statistics:\n",
      "count    1.206240e+07\n",
      "mean     5.548864e+02\n",
      "std      8.894556e+02\n",
      "min      0.000000e+00\n",
      "25%      1.706696e-02\n",
      "50%      1.171021e-01\n",
      "75%      9.604421e+02\n",
      "max      3.140726e+03\n",
      "Name: flow_duration, dtype: float64\n",
      "\n",
      "Phase 2 Flow Duration Statistics:\n",
      "count    9.536823e+06\n",
      "mean     5.154993e+02\n",
      "std      8.292789e+02\n",
      "min      0.000000e+00\n",
      "25%      1.686811e-02\n",
      "50%      1.186471e-01\n",
      "75%      8.941177e+02\n",
      "max      2.985000e+03\n",
      "Name: flow_duration, dtype: float64\n",
      "\n",
      "Comparison of Flow Duration:\n",
      "Mean - Phase 1: 554.886361662094, Phase 2: 515.4992947323908\n",
      "Std Dev - Phase 1: 889.4555603829774, Phase 2: 829.2788534751189\n"
     ]
    }
   ],
   "source": [
    "# Analyze flow_duration for Phase 1 and Phase 2\n",
    "p1_flow_duration_stats = p1_df['flow_duration'].describe()\n",
    "p2_flow_duration_stats = p2_df['flow_duration'].describe()\n",
    "\n",
    "# Display the statistics\n",
    "print(\"Phase 1 Flow Duration Statistics:\")\n",
    "print(p1_flow_duration_stats)\n",
    "\n",
    "print(\"\\nPhase 2 Flow Duration Statistics:\")\n",
    "print(p2_flow_duration_stats)\n",
    "\n",
    "# Compare mean and standard deviation\n",
    "print(\"\\nComparison of Flow Duration:\")\n",
    "print(f\"Mean - Phase 1: {p1_flow_duration_stats['mean']}, Phase 2: {p2_flow_duration_stats['mean']}\")\n",
    "print(f\"Std Dev - Phase 1: {p1_flow_duration_stats['std']}, Phase 2: {p2_flow_duration_stats['std']}\")"
   ]
  },
  {
   "cell_type": "code",
   "execution_count": null,
   "metadata": {},
   "outputs": [
    {
     "name": "stdout",
     "output_type": "stream",
     "text": [
      "Percentage of flow durations over 3 seconds in Phase 1: 38.63%\n",
      "Percentage of flow durations over 3 seconds in Phase 2: 38.97%\n"
     ]
    }
   ],
   "source": [
    "# Calculate the percentage of flow durations over 3 seconds for Phase 1\n",
    "p1_over_3s = (p1_df['flow_duration'] > 10).sum() / len(p1_df) * 100\n",
    "\n",
    "# Calculate the percentage of flow durations over 3 seconds for Phase 2\n",
    "p2_over_3s = (p2_df['flow_duration'] > 10).sum() / len(p2_df) * 100\n",
    "\n",
    "# Display the results\n",
    "print(f\"Percentage of flow durations over 3 seconds in Phase 1: {p1_over_3s:.2f}%\")\n",
    "print(f\"Percentage of flow durations over 3 seconds in Phase 2: {p2_over_3s:.2f}%\")"
   ]
  },
  {
   "cell_type": "code",
   "execution_count": null,
   "metadata": {},
   "outputs": [
    {
     "name": "stdout",
     "output_type": "stream",
     "text": [
      "Longest flow duration in Phase 1: 3140.725900888443\n",
      "Longest flow duration in Phase 2: 2984.99963092804\n",
      "Phase 1 has the longest flow duration.\n"
     ]
    }
   ],
   "source": [
    "# Find the longest flow duration in Phase 1\n",
    "longest_p1_duration = p1_df['flow_duration'].max()\n",
    "\n",
    "# Find the longest flow duration in Phase 2\n",
    "longest_p2_duration = p2_df['flow_duration'].max()\n",
    "\n",
    "# Display the results\n",
    "print(f\"Longest flow duration in Phase 1: {longest_p1_duration}\")\n",
    "print(f\"Longest flow duration in Phase 2: {longest_p2_duration}\")\n",
    "\n",
    "# Compare the two\n",
    "if longest_p1_duration > longest_p2_duration:\n",
    "    print(\"Phase 1 has the longest flow duration.\")\n",
    "elif longest_p1_duration < longest_p2_duration:\n",
    "    print(\"Phase 2 has the longest flow duration.\")\n",
    "else:\n",
    "    print(\"Both phases have the same longest flow duration.\")"
   ]
  },
  {
   "cell_type": "code",
   "execution_count": null,
   "metadata": {},
   "outputs": [
    {
     "name": "stdout",
     "output_type": "stream",
     "text": [
      "\n",
      "Normal Ranges for Flow Duration, Rate, and Syn Count:\n",
      "      flow_duration         Rate  syn_count\n",
      "0.95    2582.951801  1045.596051        8.0\n",
      "0.99    2984.361171  2647.779894       16.0\n",
      "\n",
      "Normal Ranges for Flow Duration, Rate, and Syn Count (Phase 2):\n",
      "      flow_duration         Rate  syn_count\n",
      "0.95    2406.133789  1051.452031        8.0\n",
      "0.99    2790.230355  2116.838599       16.0\n"
     ]
    }
   ],
   "source": [
    "normal_ranges = p1_df[['flow_duration','Rate','syn_count']].quantile([0.95,0.99])\n",
    "\n",
    "print(\"\\nNormal Ranges for Flow Duration, Rate, and Syn Count:\")\n",
    "print(normal_ranges)\n",
    "\n",
    "normal_ranges_p2 = p2_df[['flow_duration', 'Rate', 'syn_count']].quantile([0.95, 0.99])\n",
    "\n",
    "print(\"\\nNormal Ranges for Flow Duration, Rate, and Syn Count (Phase 2):\")\n",
    "print(normal_ranges_p2)"
   ]
  },
  {
   "cell_type": "code",
   "execution_count": null,
   "metadata": {},
   "outputs": [
    {
     "ename": "NameError",
     "evalue": "name 'p1_stats' is not defined",
     "output_type": "error",
     "traceback": [
      "\u001b[1;31m---------------------------------------------------------------------------\u001b[0m",
      "\u001b[1;31mNameError\u001b[0m                                 Traceback (most recent call last)",
      "Cell \u001b[1;32mIn[11], line 2\u001b[0m\n\u001b[0;32m      1\u001b[0m \u001b[38;5;66;03m# Calculate the threshold for Rate in Phase 2\u001b[39;00m\n\u001b[1;32m----> 2\u001b[0m rate_threshold \u001b[38;5;241m=\u001b[39m \u001b[43mp1_stats\u001b[49m\u001b[38;5;241m.\u001b[39mloc[\u001b[38;5;124m'\u001b[39m\u001b[38;5;124mmean\u001b[39m\u001b[38;5;124m'\u001b[39m, \u001b[38;5;124m'\u001b[39m\u001b[38;5;124mRate\u001b[39m\u001b[38;5;124m'\u001b[39m] \u001b[38;5;241m+\u001b[39m \u001b[38;5;241m100\u001b[39m \u001b[38;5;241m*\u001b[39m p1_stats\u001b[38;5;241m.\u001b[39mloc[\u001b[38;5;124m'\u001b[39m\u001b[38;5;124mstd\u001b[39m\u001b[38;5;124m'\u001b[39m, \u001b[38;5;124m'\u001b[39m\u001b[38;5;124mRate\u001b[39m\u001b[38;5;124m'\u001b[39m]\n\u001b[0;32m      4\u001b[0m \u001b[38;5;66;03m# Filter Phase 2 DataFrame for points exceeding the threshold\u001b[39;00m\n\u001b[0;32m      5\u001b[0m high_rate_points \u001b[38;5;241m=\u001b[39m p2_df[p2_df[\u001b[38;5;124m'\u001b[39m\u001b[38;5;124mRate\u001b[39m\u001b[38;5;124m'\u001b[39m] \u001b[38;5;241m>\u001b[39m rate_threshold]\n",
      "\u001b[1;31mNameError\u001b[0m: name 'p1_stats' is not defined"
     ]
    }
   ],
   "source": [
    "# Calculate the threshold for Rate in Phase 2\n",
    "rate_threshold = p1_stats.loc['mean', 'Rate'] + 100 * p1_stats.loc['std', 'Rate']\n",
    "\n",
    "# Filter Phase 2 DataFrame for points exceeding the threshold\n",
    "high_rate_points = p2_df[p2_df['Rate'] > rate_threshold]\n",
    "\n",
    "# Display the results\n",
    "print(f\"Threshold for Rate: {rate_threshold}\")\n",
    "print(f\"Number of points exceeding the threshold: {len(high_rate_points)}\")\n",
    "print(high_rate_points)\n",
    "\n",
    "import matplotlib.pyplot as plt\n",
    "\n",
    "# Plot the high rate points\n",
    "plt.figure(figsize=(10, 6))\n",
    "plt.scatter(high_rate_points['ts'], high_rate_points['Rate'], color='red', label='High Rate Points')\n",
    "plt.axhline(y=rate_threshold, color='green', linestyle='--', label='Rate Threshold')\n",
    "plt.title('High Rate Points in Phase 2')\n",
    "plt.xlabel('Time Stamp (ts)')  # Assuming 'ts' is the time column; adjust if necessary\n",
    "plt.ylabel('Rate')\n",
    "plt.legend()\n",
    "plt.show()"
   ]
  },
  {
   "cell_type": "code",
   "execution_count": 15,
   "metadata": {},
   "outputs": [
    {
     "name": "stdout",
     "output_type": "stream",
     "text": [
      "Number of anomalies detected: 95352\n"
     ]
    }
   ],
   "source": [
    "from pyod.models.iforest import IForest\n",
    "from sklearn.preprocessing import StandardScaler\n",
    "\n",
    "# Select relevant features from your dataset\n",
    "features = ['flow_duration', 'Rate', 'Srate', 'Drate', 'Weight']\n",
    "X = p2_df[features]\n",
    "\n",
    "# Standardize the data\n",
    "scaler = StandardScaler()\n",
    "X_scaled = scaler.fit_transform(X)\n",
    "\n",
    "# Initialize and fit the Isolation Forest model\n",
    "clf = IForest(contamination=0.01)  # Assume 1% anomalies\n",
    "clf.fit(X_scaled)\n",
    "\n",
    "# Predict anomalies\n",
    "p2_df['anomaly_label'] = clf.labels_  # 0 = normal, 1 = anomaly\n",
    "p2_df['anomaly_score'] = clf.decision_function(X_scaled)\n",
    "\n",
    "# Filter out anomalies\n",
    "anomalies = p2_df[p2_df['anomaly_label'] == 1]\n",
    "print(f\"Number of anomalies detected: {len(anomalies)}\")"
   ]
  },
  {
   "cell_type": "code",
   "execution_count": 16,
   "metadata": {},
   "outputs": [
    {
     "data": {
      "image/png": "[encoded data removed]",
      "text/plain": [
       "<Figure size 1000x600 with 1 Axes>"
      ]
     },
     "metadata": {},
     "output_type": "display_data"
    }
   ],
   "source": [
    "import matplotlib.pyplot as plt\n",
    "\n",
    "plt.figure(figsize=(10, 6))\n",
    "plt.hist(p2_df['anomaly_score'], bins=50, color='blue', alpha=0.7)\n",
    "plt.title('Anomaly Score Distribution')\n",
    "plt.xlabel('Anomaly Score')\n",
    "plt.ylabel('Frequency')\n",
    "plt.show()"
   ]
  }
 ],
 "metadata": {
  "kernelspec": {
   "display_name": "Python 3",
   "language": "python",
   "name": "python3"
  },
  "language_info": {
   "codemirror_mode": {
    "name": "ipython",
    "version": 3
   },
   "file_extension": ".py",
   "mimetype": "text/x-python",
   "name": "python",
   "nbconvert_exporter": "python",
   "pygments_lexer": "ipython3",
   "version": "3.11.9"
  }
 },
 "nbformat": 4,
 "nbformat_minor": 2
}
